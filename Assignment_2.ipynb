{
 "cells": [
  {
   "cell_type": "markdown",
   "id": "0653e370-971f-483a-9cb7-c4665cf5fc40",
   "metadata": {},
   "source": [
    "Q1. Explain with an example each when to use a for loop and a while loop.\n",
    "\n",
    "Answer:"
   ]
  },
  {
   "cell_type": "markdown",
   "id": "7da781f2-a258-4379-8260-4e6cd2464abc",
   "metadata": {},
   "source": [
    "##1. For Loop: A for loop is an iteration method that is best used when you know the number of iterations ahead of time. ...\n",
    "##Syntax of for loop:\n",
    "sequence = [True, True] # Initialization\n",
    "for iterator_var in sequence: # Condition and Updation\n",
    "    statements(s) # Body of loop\n",
    "\n",
    "##2. While Loop: A while loop is an iteration method that is best used when you don't know the number of iterations ahead of time.\n",
    "\n",
    "## Syntax of while loop:\n",
    "expression = True # Initialization\n",
    "while expression: # Condition\n",
    "    statement(s) # Body of loop"
   ]
  },
  {
   "cell_type": "code",
   "execution_count": 1,
   "id": "d9316721-c87f-4bd2-84c2-462c6136d191",
   "metadata": {},
   "outputs": [
    {
     "name": "stdout",
     "output_type": "stream",
     "text": [
      "1\n",
      "2\n",
      "3\n"
     ]
    }
   ],
   "source": [
    "##Example of for loop:\n",
    "n = [1, 2, 3]  # Initialization\n",
    "for i in n:  # Condition and Updation\n",
    "    print(i)\n"
   ]
  },
  {
   "cell_type": "code",
   "execution_count": 2,
   "id": "e23a7caa-e603-4b61-9985-fe49076200c7",
   "metadata": {},
   "outputs": [
    {
     "name": "stdout",
     "output_type": "stream",
     "text": [
      "1\n",
      "2\n",
      "3\n",
      "4\n",
      "5\n"
     ]
    }
   ],
   "source": [
    "##Example of while loop:\n",
    "i = 1  # Initialization\n",
    "while i < 6:  # Condition\n",
    "    print(i)\n",
    "    i += 1  # Updation\n",
    "\n"
   ]
  },
  {
   "cell_type": "markdown",
   "id": "a054f9cd-3e59-4f12-82f8-7a0322c7adcd",
   "metadata": {},
   "source": [
    "Q2: Write a python program to print the sum and product of the first 10 natural numbers using for and while loop.\n",
    "Answer:"
   ]
  },
  {
   "cell_type": "code",
   "execution_count": 3,
   "id": "b8092cbf-d825-49d8-b2d1-fe54eb1e57c8",
   "metadata": {},
   "outputs": [
    {
     "name": "stdout",
     "output_type": "stream",
     "text": [
      "The sum is 136\n"
     ]
    }
   ],
   "source": [
    "# Sum of natural numbers up to num\n",
    "\n",
    "num = 16\n",
    "\n",
    "if num < 0:\n",
    "   print(\"Enter a positive number\")\n",
    "else:\n",
    "   sum = 0\n",
    "   # use while loop to iterate until zero\n",
    "   while(num > 0):\n",
    "       sum += num\n",
    "       num -= 1\n",
    "   print(\"The sum is\", sum)"
   ]
  },
  {
   "cell_type": "markdown",
   "id": "44da81b5-4882-467a-b123-5b9105ad344d",
   "metadata": {},
   "source": [
    "Q.3: Q3. Create a python program to compute the electricity bill for a household.\n",
    "\n",
    "The per-unit charges in ruppes are as follows: For the first 100 units, the user will be charged Rs.4.5 per unit,\n",
    "for the next 100 units, the user will be charged Rs.6 per unit,and for the next 100 units, the user \n",
    "will be charged Rs.10 per units, after 300 units and above the user will be charged Rs.20 per unit.\n",
    "\n",
    "You are required to take the units of electricity consumed by the user in a month is 310,\n",
    "the total electricty bill should be 2250.\n",
    "\n",
    "Answer:"
   ]
  },
  {
   "cell_type": "code",
   "execution_count": 14,
   "id": "cf03a327-ef47-47e2-86f0-33f9c4cdf6e2",
   "metadata": {},
   "outputs": [
    {
     "name": "stdin",
     "output_type": "stream",
     "text": [
      "Enter your unit:  310\n"
     ]
    },
    {
     "name": "stdout",
     "output_type": "stream",
     "text": [
      "Bill Per Unit: 2250\n",
      "Total Bill : 2250\n"
     ]
    }
   ],
   "source": [
    "unit = int(input(\"Enter your unit: \"))\n",
    "if unit <= 100:\n",
    "    bill = unit * 4.5\n",
    "elif unit >= 101 and unit <= 200:\n",
    "    bill = 450 + ((unit - 100) * 6)\n",
    "elif unit >= 201 and unit <= 300:\n",
    "    bill = 450 + 600 + ((unit - 200) * 10)\n",
    "else:\n",
    "    bill = 450 + 600 + 1000 + ((unit - 300) * 20)\n",
    "print(\"Bill Per Unit:\",bill)\n",
    "print(\"Total Bill :\",bill)"
   ]
  },
  {
   "cell_type": "markdown",
   "id": "c0baffa3-2c4c-4976-8d53-ae5f12d7a97e",
   "metadata": {},
   "source": [
    "Q.4: Q4. Create a list of numbers from 1 to 100. Use for loop and while loop to calculate the cube of each\n",
    "number and if the cube of that number is divisible by 4 or 5 then append that number in a list and print\n",
    "that list.\n",
    "\n",
    "Answer:"
   ]
  },
  {
   "cell_type": "code",
   "execution_count": 1,
   "id": "05c556f9-dfa5-4bdf-a2f5-8242ee1f98d3",
   "metadata": {},
   "outputs": [
    {
     "name": "stdout",
     "output_type": "stream",
     "text": [
      "The numbers which are divisible by 4 or 5: [8, 64, 125, 216, 512, 1000, 1728, 2744, 3375, 4096, 5832, 8000, 10648, 13824, 15625, 17576, 21952, 27000, 32768, 39304, 42875, 46656, 54872, 64000, 74088, 85184, 91125, 97336, 110592, 125000, 140608, 157464, 166375, 175616, 195112, 216000, 238328, 262144, 274625, 287496, 314432, 343000, 373248, 405224, 421875, 438976, 474552, 512000, 551368, 592704, 614125, 636056, 681472, 729000, 778688, 830584, 857375, 884736, 941192, 1000000]\n"
     ]
    }
   ],
   "source": [
    "numbers = []\n",
    "result = []\n",
    "i = 1\n",
    "\n",
    "while i <= 100:\n",
    "    numbers.append(i)\n",
    "    i += 1\n",
    "\n",
    "for num in numbers:\n",
    "    cube = num ** 3\n",
    "    if cube % 4 == 0 or cube % 5 == 0:\n",
    "        result.append(cube)\n",
    "\n",
    "print(\"The numbers which are divisible by 4 or 5:\", result)"
   ]
  },
  {
   "cell_type": "markdown",
   "id": "1fb15a7e-d5af-4966-9deb-c402c9e83e91",
   "metadata": {},
   "source": [
    "Q5. Write a program to filter count vowels in the below-given string.\n",
    "string=\"I want to become a data scientitst\"\n",
    "Answer:"
   ]
  },
  {
   "cell_type": "code",
   "execution_count": 20,
   "id": "0a81678f-9d3d-46da-b31a-0cb1eeac304d",
   "metadata": {},
   "outputs": [
    {
     "name": "stdout",
     "output_type": "stream",
     "text": [
      "I want to become a data scientitst\n",
      "Number vowels in given sentence is  11\n"
     ]
    }
   ],
   "source": [
    "s1 = \"I want to become a data scientitst\"\n",
    "s3 = s1.lower()\n",
    "print(s1)\n",
    "count=0\n",
    "l5 = [\"a\", \"e\" ,\"i\", \"o\", \"u\"]\n",
    "for s2 in s1:\n",
    "  if s2 in l5:\n",
    "    count = count +1\n",
    "print(\"Number vowels in given sentence is \", count)"
   ]
  },
  {
   "cell_type": "code",
   "execution_count": null,
   "id": "3addb47d-7fdc-4fcb-a9f5-d5ff44762b36",
   "metadata": {},
   "outputs": [],
   "source": []
  }
 ],
 "metadata": {
  "kernelspec": {
   "display_name": "Python 3 (ipykernel)",
   "language": "python",
   "name": "python3"
  },
  "language_info": {
   "codemirror_mode": {
    "name": "ipython",
    "version": 3
   },
   "file_extension": ".py",
   "mimetype": "text/x-python",
   "name": "python",
   "nbconvert_exporter": "python",
   "pygments_lexer": "ipython3",
   "version": "3.10.8"
  }
 },
 "nbformat": 4,
 "nbformat_minor": 5
}
